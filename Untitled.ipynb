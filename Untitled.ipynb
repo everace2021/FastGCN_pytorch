{
 "cells": [
  {
   "cell_type": "code",
   "execution_count": 5,
   "id": "4dd728aa",
   "metadata": {},
   "outputs": [
    {
     "name": "stderr",
     "output_type": "stream",
     "text": [
      "C:\\Users\\USER\\AppData\\Local\\Temp\\ipykernel_18284\\3791624503.py:9: DeprecationWarning: Please use `csr_matrix` from the `scipy.sparse` namespace, the `scipy.sparse.csr` namespace is deprecated.\n",
      "  objects.append(pkl.load(f, encoding='latin1'))\n"
     ]
    }
   ],
   "source": [
    "import numpy as np\n",
    "import sys\n",
    "import pickle as pkl\n",
    "import scipy.sparse as sp\n",
    "\n",
    "objects = []\n",
    "with open(\"data/ind.cora.x\", 'rb') as f:\n",
    "    if sys.version_info > (3, 0):\n",
    "        objects.append(pkl.load(f, encoding='latin1'))\n",
    "    else:\n",
    "        objects.append(pkl.load(f))"
   ]
  },
  {
   "cell_type": "code",
   "execution_count": 7,
   "id": "82766e44",
   "metadata": {},
   "outputs": [],
   "source": [
    "x = objects[0]"
   ]
  },
  {
   "cell_type": "code",
   "execution_count": 13,
   "id": "886df6ce",
   "metadata": {},
   "outputs": [
    {
     "name": "stdout",
     "output_type": "stream",
     "text": [
      "  (0, 3)\t1.0\n",
      "  (0, 81)\t1.0\n",
      "  (0, 337)\t1.0\n",
      "  (0, 586)\t1.0\n",
      "  (0, 698)\t1.0\n",
      "  (0, 747)\t1.0\n",
      "  (0, 819)\t1.0\n",
      "  (0, 860)\t1.0\n",
      "  (0, 893)\t1.0\n",
      "  (0, 1060)\t1.0\n",
      "  (0, 1171)\t1.0\n",
      "  (0, 1177)\t1.0\n",
      "  (0, 1209)\t1.0\n",
      "  (0, 1230)\t1.0\n",
      "  (0, 1253)\t1.0\n",
      "  (0, 1266)\t1.0\n",
      "  (0, 1348)\t1.0\n",
      "  (0, 1351)\t1.0\n"
     ]
    }
   ],
   "source": [
    "print(x[4])"
   ]
  },
  {
   "cell_type": "code",
   "execution_count": 14,
   "id": "6b7097d6",
   "metadata": {},
   "outputs": [
    {
     "name": "stdout",
     "output_type": "stream",
     "text": [
      "  (0, 19)\t1.0\n",
      "  (0, 80)\t1.0\n",
      "  (0, 196)\t1.0\n",
      "  (0, 351)\t1.0\n",
      "  (0, 377)\t1.0\n",
      "  (0, 378)\t1.0\n",
      "  (0, 395)\t1.0\n",
      "  (0, 411)\t1.0\n",
      "  (0, 442)\t1.0\n",
      "  (0, 483)\t1.0\n",
      "  (0, 540)\t1.0\n",
      "  (0, 627)\t1.0\n",
      "  (0, 668)\t1.0\n",
      "  (0, 866)\t1.0\n",
      "  (0, 931)\t1.0\n",
      "  (0, 981)\t1.0\n",
      "  (0, 1071)\t1.0\n",
      "  (0, 1075)\t1.0\n",
      "  (0, 1177)\t1.0\n",
      "  (0, 1186)\t1.0\n",
      "  (0, 1209)\t1.0\n",
      "  (0, 1283)\t1.0\n",
      "  (0, 1317)\t1.0\n",
      "  (0, 1319)\t1.0\n"
     ]
    }
   ],
   "source": [
    "print(x[14])"
   ]
  },
  {
   "cell_type": "code",
   "execution_count": 11,
   "id": "03df4ec5",
   "metadata": {},
   "outputs": [
    {
     "name": "stdout",
     "output_type": "stream",
     "text": [
      "[[0. 0. 0. ... 0. 0. 0.]]\n"
     ]
    }
   ],
   "source": [
    "print(x.toarray()[:1])"
   ]
  }
 ],
 "metadata": {
  "kernelspec": {
   "display_name": "Python 3 (ipykernel)",
   "language": "python",
   "name": "python3"
  },
  "language_info": {
   "codemirror_mode": {
    "name": "ipython",
    "version": 3
   },
   "file_extension": ".py",
   "mimetype": "text/x-python",
   "name": "python",
   "nbconvert_exporter": "python",
   "pygments_lexer": "ipython3",
   "version": "3.8.16"
  }
 },
 "nbformat": 4,
 "nbformat_minor": 5
}
